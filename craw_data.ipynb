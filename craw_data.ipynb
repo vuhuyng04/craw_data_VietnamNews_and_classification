{
 "cells": [
  {
   "cell_type": "code",
   "execution_count": 1,
   "metadata": {},
   "outputs": [
    {
     "name": "stdout",
     "output_type": "stream",
     "text": [
      "File all_articles.csv đã tồn tại, sẽ ghi thêm vào file này\n",
      "Bắt đầu crawl vào: 2025-03-14 14:24:32\n",
      "\n",
      "=== Crawl tuoitre - kinh-te ===\n",
      "Đã tìm thấy 1491 URLs đã crawl trước đó\n",
      "Tìm thấy 110 liên kết trên trang 1\n",
      "Tìm thấy 10 liên kết trên trang 2, tổng cộng: 120\n",
      "Tìm thấy 10 liên kết trên trang 3, tổng cộng: 130\n",
      "Tìm thấy 10 liên kết trên trang 4, tổng cộng: 140\n",
      "Tìm thấy 10 liên kết trên trang 5, tổng cộng: 150\n",
      "Tìm thấy 10 liên kết trên trang 6, tổng cộng: 160\n",
      "Tìm thấy 10 liên kết trên trang 7, tổng cộng: 170\n",
      "Tìm thấy 10 liên kết trên trang 8, tổng cộng: 180\n",
      "Tìm thấy 10 liên kết trên trang 9, tổng cộng: 190\n",
      "Tìm thấy 10 liên kết trên trang 10, tổng cộng: 200\n",
      "Tìm thấy 184 URLs mới chưa crawl\n"
     ]
    },
    {
     "name": "stderr",
     "output_type": "stream",
     "text": [
      "Crawl tuoitre/kinh-te:   3%|▎         | 5/184 [07:16<5:12:05, 104.61s/it, Đã ghi: VinUni và NTU - Singapore ký k...]"
     ]
    },
    {
     "name": "stdout",
     "output_type": "stream",
     "text": [
      "Bài viết không đủ thông tin: https://tuoitre.vn/kiem-tien-bang-nghe-doc-la-hong-giong-ai-e1918.htm\n"
     ]
    },
    {
     "name": "stderr",
     "output_type": "stream",
     "text": [
      "Crawl tuoitre/kinh-te:   4%|▍         | 8/184 [12:24<5:30:51, 112.79s/it, Đã ghi: TP.HCM, Nam Bộ nắng nóng như ‘...]"
     ]
    },
    {
     "name": "stdout",
     "output_type": "stream",
     "text": [
      "Bài viết không đủ thông tin: https://tuoitre.vn/tam-dai-dong-nganh-o-trung-quoc-2024101015305498.htm\n"
     ]
    },
    {
     "name": "stderr",
     "output_type": "stream",
     "text": [
      "Crawl tuoitre/kinh-te:  11%|█▏        | 21/184 [28:25<4:30:10, 99.45s/it, Đã ghi: Nga kiểm soát gắt gao tại các ...]"
     ]
    },
    {
     "name": "stdout",
     "output_type": "stream",
     "text": [
      "Bài viết không đủ thông tin: https://tuoitre.vn/brics-va-mot-trat-tu-the-gioi-khac-20241018083427105.htm\n"
     ]
    },
    {
     "name": "stderr",
     "output_type": "stream",
     "text": [
      "Crawl tuoitre/kinh-te:  12%|█▏        | 22/184 [31:19<5:29:08, 121.91s/it, Đã ghi: Nga kiểm soát gắt gao tại các ...]"
     ]
    },
    {
     "name": "stdout",
     "output_type": "stream",
     "text": [
      "Bài viết không đủ thông tin: https://tuoitre.vn/con-sot-hang-hieu-kinh-te-hoc-dien-ro-cua-tui-birkin-20241010160436946.htm\n"
     ]
    },
    {
     "name": "stderr",
     "output_type": "stream",
     "text": [
      "Crawl tuoitre/kinh-te:  16%|█▌        | 29/184 [38:50<2:58:53, 69.25s/it, Đã ghi: Nơi tưởng niệm liệt sĩ Gạc Ma ...] "
     ]
    },
    {
     "name": "stdout",
     "output_type": "stream",
     "text": [
      "Bài viết không đủ thông tin: https://tuoitre.vn/o-nhiem-khoi-bui-ta-dang-hai-minh-20250209082837615.htm\n"
     ]
    },
    {
     "name": "stderr",
     "output_type": "stream",
     "text": [
      "Crawl tuoitre/kinh-te:  18%|█▊        | 33/184 [45:00<4:08:32, 98.76s/it, Đã ghi: Xem xét chuyển công tác 2 giáo...]"
     ]
    },
    {
     "name": "stdout",
     "output_type": "stream",
     "text": [
      "Bài viết không đủ thông tin: https://tuoitre.vn/thuong-chien-trump-20-e1911.htm\n"
     ]
    },
    {
     "name": "stderr",
     "output_type": "stream",
     "text": [
      "Crawl tuoitre/kinh-te:  18%|█▊        | 34/184 [47:55<5:04:05, 121.63s/it, Đã ghi: Xem xét chuyển công tác 2 giáo...]"
     ]
    },
    {
     "name": "stdout",
     "output_type": "stream",
     "text": [
      "Bài viết không đủ thông tin: https://tuoitre.vn/v-league-2024-2025-e1842.htm\n"
     ]
    },
    {
     "name": "stderr",
     "output_type": "stream",
     "text": [
      "Crawl tuoitre/kinh-te:  22%|██▏       | 40/184 [56:14<4:10:42, 104.46s/it, Đã ghi: Giá thịt heo tăng nóng, giá th...]"
     ]
    },
    {
     "name": "stdout",
     "output_type": "stream",
     "text": [
      "Bài viết không đủ thông tin: https://tuoitre.vn/cuoc-chien-chong-lua-dao-tren-mang-e1914.htm\n"
     ]
    },
    {
     "name": "stderr",
     "output_type": "stream",
     "text": [
      "Crawl tuoitre/kinh-te:  23%|██▎       | 42/184 [1:00:13<4:37:05, 117.08s/it, Đã ghi: Nhà bán lẻ đồ nội thất, điện g...]"
     ]
    },
    {
     "name": "stdout",
     "output_type": "stream",
     "text": [
      "Bài viết không đủ thông tin: https://tuoitre.vn/thu-hep-nen-kinh-te-co-cuu-duoc-hanh-tinh-20241003092930039.htm\n"
     ]
    },
    {
     "name": "stderr",
     "output_type": "stream",
     "text": [
      "Crawl tuoitre/kinh-te:  28%|██▊       | 51/184 [1:10:50<2:59:57, 81.19s/it, Đã ghi: 9 tháng đầu năm 2024, MB tăng ...] "
     ]
    },
    {
     "name": "stdout",
     "output_type": "stream",
     "text": [
      "Bài viết không đủ thông tin: https://tuoitre.vn/diem-huong-dinh-cu-canada-tien-toi-kiem-duoc-chi-du-tieu-vat-20250118130742614.htm\n"
     ]
    },
    {
     "name": "stderr",
     "output_type": "stream",
     "text": [
      "Crawl tuoitre/kinh-te:  28%|██▊       | 52/184 [1:13:45<4:00:45, 109.44s/it, Đã ghi: 9 tháng đầu năm 2024, MB tăng ...]"
     ]
    },
    {
     "name": "stdout",
     "output_type": "stream",
     "text": [
      "Bài viết không đủ thông tin: https://tuoitre.vn/chinh-quyen-moi-cua-hoa-ky-va-trung-quoc-20241108082042432.htm\n"
     ]
    },
    {
     "name": "stderr",
     "output_type": "stream",
     "text": [
      "Crawl tuoitre/kinh-te:  38%|███▊      | 69/184 [1:34:58<3:40:46, 115.19s/it, Đã ghi: Mỗi năm Đồng bằng sông Cửu Lon...]"
     ]
    },
    {
     "name": "stdout",
     "output_type": "stream",
     "text": [
      "Bài viết không đủ thông tin: https://tuoitre.vn/voi-gia-ca-dung-noi-chuyen-nho-hoi-do-20241114084747759.htm\n"
     ]
    },
    {
     "name": "stderr",
     "output_type": "stream",
     "text": [
      "Crawl tuoitre/kinh-te:  40%|███▉      | 73/184 [1:40:00<2:45:25, 89.42s/it, Đã ghi: Máy bay American Airlines bốc ...] "
     ]
    },
    {
     "name": "stdout",
     "output_type": "stream",
     "text": [
      "Bài viết không đủ thông tin: https://tuoitre.vn/noi-ray-kinh-te-2024-2025-20241231235405022.htm\n"
     ]
    },
    {
     "name": "stderr",
     "output_type": "stream",
     "text": [
      "Crawl tuoitre/kinh-te:  41%|████      | 75/184 [1:43:59<3:19:23, 109.75s/it, Đã ghi: Kinh tế chịu tác động kép song...]"
     ]
    },
    {
     "name": "stdout",
     "output_type": "stream",
     "text": [
      "Bài viết không đủ thông tin: https://tuoitre.vn/gia-thit-heo-e617.htm\n"
     ]
    },
    {
     "name": "stderr",
     "output_type": "stream",
     "text": [
      "Crawl tuoitre/kinh-te:  51%|█████     | 93/184 [2:05:34<2:30:17, 99.09s/it, Đã ghi: Châu Á một năm nhìn lại: Thiên...] "
     ]
    },
    {
     "name": "stdout",
     "output_type": "stream",
     "text": [
      "Bài viết không đủ thông tin: https://tuoitre.vn/cang-thang-chinh-tri-o-han-quoc-e1889.htm\n"
     ]
    },
    {
     "name": "stderr",
     "output_type": "stream",
     "text": [
      "Crawl tuoitre/kinh-te:  52%|█████▏    | 95/184 [2:09:33<2:49:55, 114.56s/it, Đã ghi: BVĐK Tâm Trí Cao Lãnh cấp cứu ...]"
     ]
    },
    {
     "name": "stdout",
     "output_type": "stream",
     "text": [
      "Bài viết không đủ thông tin: https://tuoitre.vn/nang-luc-canh-tranh-logistics-phan-phoi-su-bi-quan-can-thiet-20241108083839754.htm\n"
     ]
    },
    {
     "name": "stderr",
     "output_type": "stream",
     "text": [
      "Crawl tuoitre/kinh-te:  56%|█████▌    | 103/184 [2:20:06<2:16:22, 101.02s/it, Đã ghi: Coi kênh giải trí, nổi quạu vì...]"
     ]
    },
    {
     "name": "stdout",
     "output_type": "stream",
     "text": [
      "Bài viết không đủ thông tin: https://tuoitre.vn/thang-thanh-nien-e1726.htm\n"
     ]
    },
    {
     "name": "stderr",
     "output_type": "stream",
     "text": [
      "Crawl tuoitre/kinh-te:  58%|█████▊    | 106/184 [2:25:12<2:23:54, 110.70s/it, Đã ghi: Cạnh tranh nguồn nước leo than...]"
     ]
    },
    {
     "name": "stdout",
     "output_type": "stream",
     "text": [
      "Bài viết không đủ thông tin: https://tuoitre.vn/trump-harris-va-kinh-te-the-gioi-20241108081357998.htm\n"
     ]
    },
    {
     "name": "stderr",
     "output_type": "stream",
     "text": [
      "Crawl tuoitre/kinh-te:  59%|█████▊    | 108/184 [2:29:12<2:32:21, 120.29s/it, Đã ghi: Chính quyền Tổng thống Trump t...]"
     ]
    },
    {
     "name": "stdout",
     "output_type": "stream",
     "text": [
      "Bài viết không đủ thông tin: https://tuoitre.vn/trump-2-0-mot-the-gioi-kho-doan-dinh-20241115090543809.htm\n"
     ]
    },
    {
     "name": "stderr",
     "output_type": "stream",
     "text": [
      "Crawl tuoitre/kinh-te:  64%|██████▍   | 118/184 [2:40:34<1:14:45, 67.96s/it, Đã ghi: Huế không cấp phép hội thi chi...] "
     ]
    },
    {
     "name": "stdout",
     "output_type": "stream",
     "text": [
      "Bài viết không đủ thông tin: https://tuoitre.vn/nhung-dia-phuong-nao-nen-sap-nhap-voi-tp-hcm-2025031219370637.htm\n"
     ]
    },
    {
     "name": "stderr",
     "output_type": "stream",
     "text": [
      "Crawl tuoitre/kinh-te:  65%|██████▍   | 119/184 [2:42:27<1:28:27, 81.66s/it, Đã ghi: Huế không cấp phép hội thi chi...]"
     ]
    },
    {
     "name": "stdout",
     "output_type": "stream",
     "text": [
      "Bài viết không đủ thông tin: https://tuoitre.vn/playlist/vu-viec-nong-tren-mang-xa-hoi-45.htm\n"
     ]
    },
    {
     "name": "stderr",
     "output_type": "stream",
     "text": [
      "Crawl tuoitre/kinh-te:  72%|███████▏  | 132/184 [2:56:42<57:13, 66.03s/it, Đã ghi: Công an Bến Tre điều tra vụ ng...]  "
     ]
    },
    {
     "name": "stdout",
     "output_type": "stream",
     "text": [
      "Bài viết không đủ thông tin: https://tuoitre.vn/mat-bang-metro-so-2-thong-suot-nguoi-dan-mong-som-khoi-cong-2025031222094499.htm\n"
     ]
    },
    {
     "name": "stderr",
     "output_type": "stream",
     "text": [
      "Crawl tuoitre/kinh-te:  74%|███████▍  | 136/184 [3:01:19<56:11, 70.24s/it, Đã ghi: Thủ tướng quảng bá hàng Việt đ...]"
     ]
    },
    {
     "name": "stdout",
     "output_type": "stream",
     "text": [
      "Timeout khi tải trang: https://tuoitre.vn/long-an-hinh-thanh-nhieu-truc-kinh-te-phat-trien-nang-cao-nang-luc-canh-tranh-20240827064022701.htm\n"
     ]
    },
    {
     "name": "stderr",
     "output_type": "stream",
     "text": [
      "Crawl tuoitre/kinh-te:  78%|███████▊  | 144/184 [3:12:02<1:05:30, 98.26s/it, Đã ghi: Thủ tướng: Đề xuất đưa nước ta...]"
     ]
    },
    {
     "name": "stdout",
     "output_type": "stream",
     "text": [
      "Bài viết không đủ thông tin: https://tuoitre.vn/gac-ma-e188.htm\n"
     ]
    },
    {
     "name": "stderr",
     "output_type": "stream",
     "text": [
      "Crawl tuoitre/kinh-te:  79%|███████▉  | 145/184 [3:14:58<1:18:53, 121.38s/it, Đã ghi: Thủ tướng: Đề xuất đưa nước ta...]"
     ]
    },
    {
     "name": "stdout",
     "output_type": "stream",
     "text": [
      "Bài viết không đủ thông tin: https://tuoitre.vn/lam-kinh-te-voi-chi-hang-20240301092529086.htm\n"
     ]
    },
    {
     "name": "stderr",
     "output_type": "stream",
     "text": [
      "Crawl tuoitre/kinh-te:  80%|███████▉  | 147/184 [3:19:42<1:23:11, 134.90s/it, Đã ghi: Thuế quan của ông Trump là 'cú...]"
     ]
    },
    {
     "name": "stdout",
     "output_type": "stream",
     "text": [
      "Bài viết không đủ thông tin: https://tuoitre.vn/chi-dau-kinh-te-nong-gion-dam-vi-bo-20240516075201779.htm\n"
     ]
    },
    {
     "name": "stderr",
     "output_type": "stream",
     "text": [
      "Crawl tuoitre/kinh-te:  82%|████████▏ | 150/184 [3:24:44<1:08:43, 121.29s/it, Đã ghi: Tổng giám đốc Samsung Việt Nam...]"
     ]
    },
    {
     "name": "stdout",
     "output_type": "stream",
     "text": [
      "Bài viết không đủ thông tin: https://tuoitre.vn/tinh-gon-bo-may-e1886.htm\n"
     ]
    },
    {
     "name": "stderr",
     "output_type": "stream",
     "text": [
      "Crawl tuoitre/kinh-te:  86%|████████▌ | 158/184 [3:35:12<43:46, 101.02s/it, Đã ghi: Ông Putin nhận thiếu sót về l...]  "
     ]
    },
    {
     "name": "stdout",
     "output_type": "stream",
     "text": [
      "Bài viết không đủ thông tin: https://tuoitre.vn/nghi-dinh-168-e1903.htm\n"
     ]
    },
    {
     "name": "stderr",
     "output_type": "stream",
     "text": [
      "Crawl tuoitre/kinh-te:  90%|████████▉ | 165/184 [3:44:33<31:54, 100.77s/it, Đã ghi: Cuộc gặp hiếm hoi của ông Tập ...]"
     ]
    },
    {
     "name": "stdout",
     "output_type": "stream",
     "text": [
      "Bài viết không đủ thông tin: https://tuoitre.vn/kinh-te-cam-xuc-tieu-tien-de-tim-vui-20241204102750034.htm\n"
     ]
    },
    {
     "name": "stderr",
     "output_type": "stream",
     "text": [
      "Crawl tuoitre/kinh-te:  90%|████████▉ | 165/184 [3:45:38<31:54, 100.77s/it, Đã ghi: Đáng tiếc cho Hoàng Thùy Linh\n",
      "Crawl tuoitre/kinh-te:  90%|█████████ | 166/184 [3:45:38<26:56, 89.82s/it, Đã ghi: Đáng tiếc cho Hoàng Thùy Linh\n",
      "Crawl tuoitre/kinh-te: 100%|██████████| 184/184 [4:06:57<00:00, 97.96s/it, Đã ghi: Năm mới, kỳ vọng mới cho TP.HC...]"
     ]
    },
    {
     "name": "stdout",
     "output_type": "stream",
     "text": [
      "Bài viết không đủ thông tin: https://tuoitre.vn/trump-2-0-kinh-te-the-gioi-va-viet-nam-20241122093650936.htm\n"
     ]
    },
    {
     "name": "stderr",
     "output_type": "stream",
     "text": [
      "Crawl tuoitre/kinh-te: 100%|██████████| 184/184 [4:06:58<00:00, 80.54s/it, Đã ghi: Năm mới, kỳ vọng mới cho TP.HC...]\n"
     ]
    },
    {
     "name": "stdout",
     "output_type": "stream",
     "text": [
      "Đã crawl 153 bài viết từ tuoitre/kinh-te\n",
      "Đã bỏ qua 1 bài viết không thuộc danh mục kinh-te\n",
      "Hoàn tất crawl tuoitre/kinh-te: 153 bài viết\n",
      "Tổng cộng đã crawl: 153 bài viết\n",
      "--------------------------------------------------\n",
      "\n",
      "=== Crawl tuoitre - phap-luat ===\n",
      "Đã tìm thấy 1644 URLs đã crawl trước đó\n",
      "Tìm thấy 29 liên kết trên trang 1\n",
      "Tìm thấy 10 liên kết trên trang 2, tổng cộng: 39\n",
      "Tìm thấy 10 liên kết trên trang 3, tổng cộng: 39\n",
      "Tìm thấy 10 liên kết trên trang 4, tổng cộng: 39\n",
      "Tìm thấy 10 liên kết trên trang 5, tổng cộng: 39\n",
      "Tìm thấy 10 liên kết trên trang 6, tổng cộng: 39\n",
      "Tìm thấy 10 liên kết trên trang 7, tổng cộng: 39\n",
      "Tìm thấy 10 liên kết trên trang 8, tổng cộng: 39\n",
      "Tìm thấy 10 liên kết trên trang 9, tổng cộng: 39\n",
      "Tìm thấy 10 liên kết trên trang 10, tổng cộng: 39\n",
      "Tìm thấy 7 URLs mới chưa crawl\n"
     ]
    },
    {
     "name": "stderr",
     "output_type": "stream",
     "text": [
      "Crawl tuoitre/phap-luat:  14%|█▍        | 1/7 [02:14<13:24, 134.14s/it]"
     ]
    },
    {
     "name": "stdout",
     "output_type": "stream",
     "text": [
      "Bài viết không đủ thông tin: https://tuoitre.vn/nhung-dieu-luat-ky-la-tren-the-gioi-2020032052788152.htm\n"
     ]
    },
    {
     "name": "stderr",
     "output_type": "stream",
     "text": [
      "Crawl tuoitre/phap-luat:  86%|████████▌ | 6/7 [08:18<01:22, 82.38s/it, Đã ghi: Cha con đại gia điện gió miền ...] "
     ]
    },
    {
     "name": "stdout",
     "output_type": "stream",
     "text": [
      "Bài viết không đủ thông tin: https://tuoitre.vn/my-o-tu-cung-nhan-tro-cap-covid-19-2020062545786615.htm\n"
     ]
    },
    {
     "name": "stderr",
     "output_type": "stream",
     "text": [
      "Crawl tuoitre/phap-luat: 100%|██████████| 7/7 [09:23<00:00, 80.55s/it, Đã ghi: Ghen tuông vô cớ, rủ bạn đi đá...]\n"
     ]
    },
    {
     "name": "stdout",
     "output_type": "stream",
     "text": [
      "Đã crawl 5 bài viết từ tuoitre/phap-luat\n",
      "Hoàn tất crawl tuoitre/phap-luat: 5 bài viết\n",
      "Tổng cộng đã crawl: 158 bài viết\n",
      "--------------------------------------------------\n",
      "\n",
      "=== Crawl tuoitre - giao-duc ===\n",
      "Đã tìm thấy 1649 URLs đã crawl trước đó\n",
      "Tìm thấy 30 liên kết trên trang 1\n",
      "Tìm thấy 10 liên kết trên trang 2, tổng cộng: 40\n",
      "Tìm thấy 10 liên kết trên trang 3, tổng cộng: 50\n",
      "Tìm thấy 10 liên kết trên trang 4, tổng cộng: 60\n",
      "Tìm thấy 10 liên kết trên trang 5, tổng cộng: 70\n",
      "Tìm thấy 10 liên kết trên trang 6, tổng cộng: 80\n",
      "Tìm thấy 10 liên kết trên trang 7, tổng cộng: 90\n",
      "Tìm thấy 10 liên kết trên trang 8, tổng cộng: 100\n",
      "Tìm thấy 10 liên kết trên trang 9, tổng cộng: 110\n",
      "Tìm thấy 10 liên kết trên trang 10, tổng cộng: 120\n",
      "Tìm thấy 58 URLs mới chưa crawl\n"
     ]
    },
    {
     "name": "stderr",
     "output_type": "stream",
     "text": [
      "Crawl tuoitre/giao-duc:   2%|▏         | 1/58 [01:42<1:37:46, 102.91s/it]"
     ]
    },
    {
     "name": "stdout",
     "output_type": "stream",
     "text": [
      "Bài viết không đủ thông tin: https://tuoitre.vn/10-bien-phap-vui-de-con-tre-duoc-nghi-he-tron-ven-20240723112026725.htm\n"
     ]
    },
    {
     "name": "stderr",
     "output_type": "stream",
     "text": [
      "Crawl tuoitre/giao-duc:  14%|█▍        | 8/58 [09:56<1:05:09, 78.18s/it, Đã ghi: Học sinh TP.HCM mắc tật khúc x...] "
     ]
    },
    {
     "name": "stdout",
     "output_type": "stream",
     "text": [
      "Bài viết không đủ thông tin: https://tuoitre.vn/nhung-bai-hoc-nho-trong-cac-phim-hoat-hinh-danh-cho-thieu-nhi-20240503173111417.htm\n"
     ]
    },
    {
     "name": "stderr",
     "output_type": "stream",
     "text": [
      "Crawl tuoitre/giao-duc:  19%|█▉        | 11/58 [15:02<1:20:58, 103.38s/it, Đã ghi: Chuyển biến đáng kể trong chọn...]"
     ]
    },
    {
     "name": "stdout",
     "output_type": "stream",
     "text": [
      "Bài viết không đủ thông tin: https://tuoitre.vn/truong-dai-hoc-va-dai-hoc-co-kho-gi-mot-cai-ten-20241122105701499.htm\n"
     ]
    },
    {
     "name": "stderr",
     "output_type": "stream",
     "text": [
      "Crawl tuoitre/giao-duc:  24%|██▍       | 14/58 [18:55<1:05:46, 89.69s/it, Đã ghi: Giới trẻ ngày nay ít chào hỏi:...] "
     ]
    },
    {
     "name": "stdout",
     "output_type": "stream",
     "text": [
      "Bài viết không đủ thông tin: https://tuoitre.vn/ngan-hang-phong-toa-sach-giao-khoa-20240821153708555.htm\n"
     ]
    },
    {
     "name": "stderr",
     "output_type": "stream",
     "text": [
      "Crawl tuoitre/giao-duc:  29%|██▉       | 17/58 [22:38<53:51, 78.81s/it, Đã ghi: Dậy sóng với trường hợp học gi...]  "
     ]
    },
    {
     "name": "stdout",
     "output_type": "stream",
     "text": [
      "Bài viết không đủ thông tin: https://tuoitre.vn/de-an-5695-tien-de-dua-tieng-anh-thanh-ngon-ngu-thu-hai-trong-truong-hoc-20241129200648879.htm\n"
     ]
    },
    {
     "name": "stderr",
     "output_type": "stream",
     "text": [
      "Crawl tuoitre/giao-duc:  36%|███▌      | 21/58 [28:52<1:02:51, 101.92s/it, Đã ghi: Kỷ luật học sinh bằng cách 'đọ...]"
     ]
    },
    {
     "name": "stdout",
     "output_type": "stream",
     "text": [
      "Bài viết không đủ thông tin: https://tuoitre.vn/giao-duc-2024-trong-the-tien-thoai-luong-nan-20241227144951281.htm\n"
     ]
    },
    {
     "name": "stderr",
     "output_type": "stream",
     "text": [
      "Crawl tuoitre/giao-duc:  41%|████▏     | 24/58 [34:03<1:03:28, 112.03s/it, Đã ghi: Lãnh đạo Bộ Giáo dục nhiều nướ...]"
     ]
    },
    {
     "name": "stdout",
     "output_type": "stream",
     "text": [
      "Bài viết không đủ thông tin: https://tuoitre.vn/tranh-smartphone-gap-smartwatch-20241106081302231.htm\n"
     ]
    },
    {
     "name": "stderr",
     "output_type": "stream",
     "text": [
      "Crawl tuoitre/giao-duc:  47%|████▋     | 27/58 [39:08<59:00, 114.19s/it, Đã ghi: Ông Kim Jong Un ôm chầm, chăm ...]  "
     ]
    },
    {
     "name": "stdout",
     "output_type": "stream",
     "text": [
      "Bài viết không đủ thông tin: https://tuoitre.vn/hoi-phu-huynh-o-phap-vua-la-day-to-vua-la-thanh-tra-20240605091328376.htm\n"
     ]
    },
    {
     "name": "stderr",
     "output_type": "stream",
     "text": [
      "Crawl tuoitre/giao-duc:  48%|████▊     | 28/58 [42:03<1:06:11, 132.38s/it, Đã ghi: Ông Kim Jong Un ôm chầm, chăm ...]"
     ]
    },
    {
     "name": "stdout",
     "output_type": "stream",
     "text": [
      "Bài viết không đủ thông tin: https://tuoitre.vn/ma-thuat-cua-bang-den-phan-trang-20240327093357614.htm\n"
     ]
    },
    {
     "name": "stderr",
     "output_type": "stream",
     "text": [
      "Crawl tuoitre/giao-duc:  55%|█████▌    | 32/58 [45:54<31:23, 72.43s/it, Đã ghi: Giáo dục sao nhiều cái phải xi...]   "
     ]
    },
    {
     "name": "stdout",
     "output_type": "stream",
     "text": [
      "Timeout khi tải trang: https://tuoitre.vn/khi-sinh-vien-giao-duc-khai-phong-khoi-nghiep-20240627214332285.htm\n"
     ]
    },
    {
     "name": "stderr",
     "output_type": "stream",
     "text": [
      "Crawl tuoitre/giao-duc:  59%|█████▊    | 34/58 [48:44<32:12, 80.50s/it, Đã ghi: Thủ tướng: Từng bước đưa tiếng...]"
     ]
    },
    {
     "name": "stdout",
     "output_type": "stream",
     "text": [
      "Bài viết không đủ thông tin: https://tuoitre.vn/quyen-luc-cua-chu-h-trong-bang-diem-20240529194651645.htm\n"
     ]
    },
    {
     "name": "stderr",
     "output_type": "stream",
     "text": [
      "Crawl tuoitre/giao-duc:  60%|██████    | 35/58 [50:29<33:39, 87.81s/it, Đã ghi: Thủ tướng: Từng bước đưa tiếng...]"
     ]
    },
    {
     "name": "stdout",
     "output_type": "stream",
     "text": [
      "Bài viết không đủ thông tin: https://tuoitre.vn/phu-huynh-hoc-sinh-troi-sinh-t-sao-con-sinh-h-20240603102532901.htm\n"
     ]
    },
    {
     "name": "stderr",
     "output_type": "stream",
     "text": [
      "Crawl tuoitre/giao-duc:  64%|██████▍   | 37/58 [53:19<30:55, 88.37s/it, Đã ghi: Tụ tập, phóng xe lạng lách: Ảo...]"
     ]
    },
    {
     "name": "stdout",
     "output_type": "stream",
     "text": [
      "Bài viết không đủ thông tin: https://tuoitre.vn/dap-an-bai-toan-day-them-hoc-them-tu-nguyen-202408261753477.htm\n"
     ]
    },
    {
     "name": "stderr",
     "output_type": "stream",
     "text": [
      "Crawl tuoitre/giao-duc:  69%|██████▉   | 40/58 [58:23<31:43, 105.73s/it, Đã ghi: Ông Trần Văn Mạnh làm phó tổng...]"
     ]
    },
    {
     "name": "stdout",
     "output_type": "stream",
     "text": [
      "Bài viết không đủ thông tin: https://tuoitre.vn/ngon-ngu-thu-hai-la-gi-20240829144332925.htm\n"
     ]
    },
    {
     "name": "stderr",
     "output_type": "stream",
     "text": [
      "Crawl tuoitre/giao-duc:  78%|███████▊  | 45/58 [1:05:39<22:45, 105.08s/it, Đã ghi: Năm thứ 20 Toyota triển khai g...]"
     ]
    },
    {
     "name": "stdout",
     "output_type": "stream",
     "text": [
      "Bài viết không đủ thông tin: https://tuoitre.vn/cach-giao-duc-gia-truyen-cua-gia-dinh-20240529181129898.htm\n"
     ]
    },
    {
     "name": "stderr",
     "output_type": "stream",
     "text": [
      "Crawl tuoitre/giao-duc:  83%|████████▎ | 48/58 [1:10:42<18:32, 111.30s/it, Đã ghi: Bộ trưởng Kim Sơn: Mong chỉ rõ...]"
     ]
    },
    {
     "name": "stdout",
     "output_type": "stream",
     "text": [
      "Bài viết không đủ thông tin: https://tuoitre.vn/moi-quan-he-giua-nha-truong-va-hoi-cha-me-hoc-sinh-dau-la-ranh-gioi-20240605091639492.htm\n"
     ]
    },
    {
     "name": "stderr",
     "output_type": "stream",
     "text": [
      "Crawl tuoitre/giao-duc:  93%|█████████▎| 54/58 [1:18:53<06:25, 96.30s/it, Đã ghi: Bão lũ gây thiệt hại cho ngành...] "
     ]
    },
    {
     "name": "stdout",
     "output_type": "stream",
     "text": [
      "Bài viết không đủ thông tin: https://tuoitre.vn/khi-nguoi-lon-so-nghi-he-20240530132621226.htm\n"
     ]
    },
    {
     "name": "stderr",
     "output_type": "stream",
     "text": [
      "Crawl tuoitre/giao-duc:  95%|█████████▍| 55/58 [1:21:04<04:20, 86.82s/it, Đã ghi: Lương giáo viên cao hay thấp? ...]\n",
      "Crawl tuoitre/giao-duc:  97%|█████████▋| 56/58 [1:21:04<02:41, 80.84s/it, Đã ghi: Lương giáo viên cao hay thấp?\n",
      "Crawl tuoitre/giao-duc:  98%|█████████▊| 57/58 [1:23:59<01:49, 109.12s/it, Đã ghi: Lương giáo viên cao hay thấp?\n",
      "...]"
     ]
    },
    {
     "name": "stdout",
     "output_type": "stream",
     "text": [
      "Bài viết không đủ thông tin: https://tuoitre.vn/co-phai-the-gioi-dang-ngay-cang-dot-hon-20250102102123789.htm\n"
     ]
    },
    {
     "name": "stderr",
     "output_type": "stream",
     "text": [
      "Crawl tuoitre/giao-duc: 100%|██████████| 58/58 [1:25:04<00:00, 88.01s/it, Đã ghi: Nhiều nước Đông Nam Á 'chạy đu...] \n"
     ]
    },
    {
     "name": "stdout",
     "output_type": "stream",
     "text": [
      "Đã crawl 40 bài viết từ tuoitre/giao-duc\n",
      "Hoàn tất crawl tuoitre/giao-duc: 40 bài viết\n",
      "Tổng cộng đã crawl: 198 bài viết\n",
      "--------------------------------------------------\n",
      "\n",
      "=== Crawl tuoitre - cong-nghe ===\n",
      "Đã tìm thấy 1689 URLs đã crawl trước đó\n",
      "Tìm thấy 34 liên kết trên trang 1\n",
      "Tìm thấy 10 liên kết trên trang 2, tổng cộng: 43\n",
      "Tìm thấy 10 liên kết trên trang 3, tổng cộng: 53\n",
      "Tìm thấy 10 liên kết trên trang 4, tổng cộng: 63\n",
      "Tìm thấy 10 liên kết trên trang 5, tổng cộng: 73\n",
      "Tìm thấy 10 liên kết trên trang 6, tổng cộng: 83\n",
      "Tìm thấy 10 liên kết trên trang 7, tổng cộng: 93\n",
      "Tìm thấy 10 liên kết trên trang 8, tổng cộng: 103\n",
      "Tìm thấy 10 liên kết trên trang 9, tổng cộng: 113\n",
      "Tìm thấy 10 liên kết trên trang 10, tổng cộng: 123\n",
      "Tìm thấy 51 URLs mới chưa crawl\n"
     ]
    },
    {
     "name": "stderr",
     "output_type": "stream",
     "text": [
      "Crawl tuoitre/cong-nghe:  16%|█▌        | 8/51 [08:06<39:32, 55.18s/it, Đã ghi: Tỉ phú Bill Gates giới thiệu n...]"
     ]
    },
    {
     "name": "stdout",
     "output_type": "stream",
     "text": [
      "Timeout khi tải trang: https://tuoitre.vn/nhung-tap-doan-lua-dao-truc-tuyen-20250304133752439.htm\n"
     ]
    },
    {
     "name": "stderr",
     "output_type": "stream",
     "text": [
      "Crawl tuoitre/cong-nghe:  33%|███▎      | 17/51 [19:58<56:30, 99.71s/it, Đã ghi: Xã nghèo ven biển ‘lột xác’ nh...]"
     ]
    },
    {
     "name": "stdout",
     "output_type": "stream",
     "text": [
      "Bài viết không đủ thông tin: https://tuoitre.vn/giac-mo-metro-20241220120240824.htm\n"
     ]
    },
    {
     "name": "stderr",
     "output_type": "stream",
     "text": [
      "Crawl tuoitre/cong-nghe:  41%|████      | 21/51 [24:18<36:36, 73.22s/it, Đã ghi: Sơn Việt Nam khẳng định chất l...]"
     ]
    },
    {
     "name": "stdout",
     "output_type": "stream",
     "text": [
      "Bài viết không đủ thông tin: https://tuoitre.vn/bat-ngo-cong-dung-cua-da-ran-20250125200151464.htm\n"
     ]
    },
    {
     "name": "stderr",
     "output_type": "stream",
     "text": [
      "Crawl tuoitre/cong-nghe:  63%|██████▎   | 32/51 [38:01<31:01, 97.97s/it, Đã ghi: Tạo ra ánh sáng xoắn, sáng gấp...]"
     ]
    },
    {
     "name": "stdout",
     "output_type": "stream",
     "text": [
      "Bài viết không đủ thông tin: https://tuoitre.vn/phap-luat-tao-hanh-lang-phat-trien-cong-nghe-20241227142439357.htm\n"
     ]
    },
    {
     "name": "stderr",
     "output_type": "stream",
     "text": [
      "Crawl tuoitre/cong-nghe:  78%|███████▊  | 40/51 [48:52<19:19, 105.45s/it, Đã ghi: Một năm ghi dấu ấn tượng của A...]"
     ]
    },
    {
     "name": "stdout",
     "output_type": "stream",
     "text": [
      "Bài viết không đủ thông tin: https://tuoitre.vn/hot-nhu-ky-su-ai-20250103142914814.htm\n"
     ]
    },
    {
     "name": "stderr",
     "output_type": "stream",
     "text": [
      "Crawl tuoitre/cong-nghe:  86%|████████▋ | 44/51 [55:01<12:33, 107.62s/it, Đã ghi: 'Ông lớn' taxi truyền thống th...]"
     ]
    },
    {
     "name": "stdout",
     "output_type": "stream",
     "text": [
      "Bài viết không đủ thông tin: https://tuoitre.vn/de-den-ngay-dac-vu-ai-quan-xuyen-moi-thu-20241211084845322.htm\n"
     ]
    },
    {
     "name": "stderr",
     "output_type": "stream",
     "text": [
      "Crawl tuoitre/cong-nghe:  96%|█████████▌| 49/51 [1:02:46<03:47, 113.97s/it, Đã ghi: Sau làn sóng tăng giá ảo, giới...]"
     ]
    },
    {
     "name": "stdout",
     "output_type": "stream",
     "text": [
      "Bài viết không đủ thông tin: https://tuoitre.vn/cong-nghe-thoi-huong-trump-20250117094018516.htm\n"
     ]
    },
    {
     "name": "stderr",
     "output_type": "stream",
     "text": [
      "Crawl tuoitre/cong-nghe: 100%|██████████| 51/51 [1:04:57<00:00, 76.42s/it, Đã ghi: Tổng Bí thư Tô Lâm: 'Lãnh đạo ...] \n"
     ]
    },
    {
     "name": "stdout",
     "output_type": "stream",
     "text": [
      "Đã crawl 43 bài viết từ tuoitre/cong-nghe\n",
      "Đã bỏ qua 1 bài viết không thuộc danh mục cong-nghe\n",
      "Hoàn tất crawl tuoitre/cong-nghe: 43 bài viết\n",
      "Tổng cộng đã crawl: 241 bài viết\n",
      "--------------------------------------------------\n",
      "\n",
      "Hoàn tất crawl tổng cộng: 241 bài viết\n",
      "Thời gian thực hiện: 6:47:57.367138\n",
      "Đã đóng trình duyệt\n"
     ]
    }
   ],
   "source": [
    "import pandas as pd\n",
    "import time\n",
    "import random\n",
    "import os\n",
    "import json\n",
    "from datetime import datetime\n",
    "from selenium import webdriver\n",
    "from selenium.webdriver.chrome.service import Service\n",
    "from selenium.webdriver.common.by import By\n",
    "from selenium.webdriver.support.ui import WebDriverWait\n",
    "from selenium.webdriver.support import expected_conditions as EC\n",
    "from selenium.common.exceptions import TimeoutException\n",
    "from webdriver_manager.chrome import ChromeDriverManager\n",
    "from tqdm import tqdm\n",
    "import atexit\n",
    "\n",
    "class NewsScraperVN:\n",
    "    def __init__(self, headless=True):\n",
    "        self.setup_driver(headless)\n",
    "        self.data_dir = \"crawled_data\"\n",
    "        self.all_articles_file = \"all_articles.csv\"\n",
    "        os.makedirs(self.data_dir, exist_ok=True)\n",
    "        \n",
    "        # Danh sách nguồn và categories cố định\n",
    "        self.sources = [\"vnexpress\", \"tuoitre\"]\n",
    "        self.available_categories = {\n",
    "            \"vnexpress\": [\n",
    "                \"thoi-su\", \"kinh-doanh\", \"giai-tri\", \"the-thao\", \"phap-luat\", \n",
    "                \"giao-duc\", \"suc-khoe\", \"doi-song\", \"du-lich\", \"khoa-hoc\", \n",
    "                \"so-hoa\", \"xe\", \"y-kien\", \"tam-su\", \"thu-gian\", \"the-gioi\"\n",
    "            ],\n",
    "            \"tuoitre\": [\n",
    "                \"thoi-su\", \"kinh-te\", \"giai-tri\", \"the-thao\", \"phap-luat\", \n",
    "                \"giao-duc\", \"suc-khoe\", \"van-hoa\", \"du-lich\", \"xe\", \n",
    "                \"nhip-song-tre\", \"the-gioi\", \"cong-nghe\", \"ban-doc\"\n",
    "            ]\n",
    "        }\n",
    "        \n",
    "        # Tạo thư mục cho từng nguồn\n",
    "        for source in self.sources:\n",
    "            os.makedirs(f\"{self.data_dir}/{source}\", exist_ok=True)\n",
    "        \n",
    "        # Đăng ký hàm để đảm bảo driver sẽ được đóng khi chương trình kết thúc\n",
    "        atexit.register(self.close)\n",
    "        \n",
    "        # Tạo file all_articles.csv nếu chưa tồn tại\n",
    "        if not os.path.exists(self.all_articles_file):\n",
    "            pd.DataFrame(columns=[\n",
    "                'url', 'source', 'crawl_time', 'category', 'title', \n",
    "                'description', 'publish_time', 'content', 'author'\n",
    "            ]).to_csv(self.all_articles_file, index=False, encoding=\"utf-8-sig\")\n",
    "            print(f\"Tạo file {self.all_articles_file} mới\")\n",
    "        else:\n",
    "            print(f\"File {self.all_articles_file} đã tồn tại, sẽ ghi thêm vào file này\")\n",
    "    \n",
    "    def setup_driver(self, headless=True):\n",
    "        \"\"\"Thiết lập trình duyệt Chrome\"\"\"\n",
    "        service = Service(ChromeDriverManager().install())\n",
    "        \n",
    "        chrome_options = webdriver.ChromeOptions()\n",
    "        if headless:\n",
    "            chrome_options.add_argument('--headless=new')\n",
    "        \n",
    "        # Cài đặt Chrome options\n",
    "        chrome_options.add_argument('--no-sandbox')\n",
    "        chrome_options.add_argument('--disable-dev-shm-usage')\n",
    "        chrome_options.add_argument('window-size=1920x1080')\n",
    "        chrome_options.add_argument('--disable-notifications')\n",
    "        chrome_options.add_argument('--ignore-certificate-errors')\n",
    "        chrome_options.add_argument('--user-agent=Mozilla/5.0 (Windows NT 10.0; Win64; x64) AppleWebKit/537.36 (KHTML, like Gecko) Chrome/120.0.0.0 Safari/537.36')\n",
    "        \n",
    "        self.driver = webdriver.Chrome(service=service, options=chrome_options)\n",
    "        self.driver.implicitly_wait(10)\n",
    "        self.wait = WebDriverWait(self.driver, 30)\n",
    "    \n",
    "    def random_sleep(self, min_time=1, max_time=3):\n",
    "        \"\"\"Tạm dừng ngẫu nhiên giữa các yêu cầu\"\"\"\n",
    "        time.sleep(random.uniform(min_time, max_time))\n",
    "    \n",
    "    def get_article_urls(self, source, category, num_pages=5):\n",
    "        \"\"\"Thu thập URL bài viết từ danh mục\"\"\"\n",
    "        article_urls = set()\n",
    "        \n",
    "        # Cấu hình URL và selectors\n",
    "        configs = {\n",
    "            \"vnexpress\": {\n",
    "                \"base_url\": f\"https://vnexpress.net/{category}\",\n",
    "                \"page_format\": f\"https://vnexpress.net/{category}-p{{}}\",\n",
    "                \"selector\": \".item-news h3 a, .title-news a\"\n",
    "            },\n",
    "            \"tuoitre\": {\n",
    "                \"base_url\": f\"https://tuoitre.vn/{category}\",\n",
    "                \"page_format\": f\"https://tuoitre.vn/{category}/trang-{{}}.html\",\n",
    "                \"selector\": \".box-category-item h3 a, .box-category-item h2 a, .title-news a\"\n",
    "            }\n",
    "        }\n",
    "        \n",
    "        config = configs[source]\n",
    "        \n",
    "        # Hàm trợ giúp thu thập URL từ một trang\n",
    "        def collect_urls_from_page(page_url):\n",
    "            try:\n",
    "                self.driver.get(page_url)\n",
    "                self.random_sleep(1, 2)\n",
    "                \n",
    "                # Thử lấy theo selector cụ thể\n",
    "                try:\n",
    "                    links = self.driver.find_elements(By.CSS_SELECTOR, config[\"selector\"])\n",
    "                except:\n",
    "                    # Fallback: Tìm tất cả thẻ a\n",
    "                    links = self.driver.find_elements(By.TAG_NAME, \"a\")\n",
    "                \n",
    "                # Thu thập URLs\n",
    "                new_urls = set()\n",
    "                for link in links:\n",
    "                    href = link.get_attribute(\"href\")\n",
    "                    if self.is_valid_article_url(href, source):\n",
    "                        new_urls.add(href)\n",
    "                \n",
    "                return new_urls\n",
    "            except Exception as e:\n",
    "                print(f\"Lỗi khi thu thập URLs từ {page_url}: {str(e)}\")\n",
    "                return set()\n",
    "        \n",
    "        # Thu thập từ trang đầu tiên\n",
    "        urls_from_first_page = collect_urls_from_page(config[\"base_url\"])\n",
    "        article_urls.update(urls_from_first_page)\n",
    "        print(f\"Tìm thấy {len(urls_from_first_page)} liên kết trên trang 1\")\n",
    "        \n",
    "        # Thu thập từ các trang tiếp theo\n",
    "        for page in range(2, num_pages + 1):\n",
    "            page_url = config[\"page_format\"].format(page)\n",
    "            urls_from_page = collect_urls_from_page(page_url)\n",
    "            article_urls.update(urls_from_page)\n",
    "            print(f\"Tìm thấy {len(urls_from_page)} liên kết trên trang {page}, tổng cộng: {len(article_urls)}\")\n",
    "        \n",
    "        return list(article_urls)\n",
    "    \n",
    "    def is_valid_article_url(self, url, source):\n",
    "        \"\"\"Kiểm tra URL bài viết có hợp lệ không\"\"\"\n",
    "        if not url:\n",
    "            return False\n",
    "            \n",
    "        invalid_patterns = [\"/video\", \"/infographics\", \"/media\", \"javascript:\"]\n",
    "        \n",
    "        # Kiểm tra và loại bỏ URLs không hợp lệ\n",
    "        if any(pattern in url for pattern in invalid_patterns):\n",
    "            return False\n",
    "            \n",
    "        # Kiểm tra định dạng URL theo nguồn\n",
    "        if source == \"vnexpress\":\n",
    "            return \"https://vnexpress.net/\" in url and \".html\" in url\n",
    "        elif source == \"tuoitre\":\n",
    "            return \"https://tuoitre.vn/\" in url and \".htm\" in url\n",
    "            \n",
    "        return False\n",
    "    \n",
    "    def scrape_article(self, url, source):\n",
    "        \"\"\"Thu thập nội dung bài viết với cấu trúc tối ưu hóa\"\"\"\n",
    "        try:\n",
    "            self.driver.get(url)\n",
    "            self.random_sleep(1, 2)\n",
    "            \n",
    "            # Chờ trang tải xong\n",
    "            self.wait.until(EC.presence_of_element_located((By.CSS_SELECTOR, \"h1, .title-detail, .article-title\")))\n",
    "            \n",
    "            # Cấu hình selectors cho từng nguồn\n",
    "            selectors = {\n",
    "                \"vnexpress\": {\n",
    "                    \"title\": \"h1.title-detail, h1.title-news\",\n",
    "                    \"description\": \".description, .lead_detail\",\n",
    "                    \"time\": \".date, .time, time.date\",\n",
    "                    \"content\": \".fck_detail .Normal, .fck_detail p, .fck_detail\",\n",
    "                    \"author\": \".author_mail, .author, .author_name\"\n",
    "                },\n",
    "                \"tuoitre\": {\n",
    "                    \"title\": \"h1.article-title, h1.title-page, h1.detail-title\",\n",
    "                    \"description\": \".sapo, .summary, .article-sapo\",\n",
    "                    \"time\": \".date-time, time.op-published\",\n",
    "                    \"content\": \".detail-content, .article-content, #main-detail-body\",\n",
    "                    \"author\": \".author, .author-info, .name-author\"\n",
    "                }\n",
    "            }\n",
    "            \n",
    "            # Khởi tạo thông tin bài viết\n",
    "            article = {\n",
    "                \"url\": url,\n",
    "                \"source\": source,\n",
    "                \"crawl_time\": datetime.now().strftime(\"%Y-%m-%d %H:%M:%S\"),\n",
    "                \"category\": \"\"\n",
    "            }\n",
    "            \n",
    "            # Hàm trợ giúp lấy nội dung theo selector\n",
    "            def get_element_text(selector_str):\n",
    "                for selector in selector_str.split(','):\n",
    "                    try:\n",
    "                        element = self.driver.find_element(By.CSS_SELECTOR, selector.strip())\n",
    "                        return element.text.strip()\n",
    "                    except:\n",
    "                        continue\n",
    "                return \"\"\n",
    "            \n",
    "            # Thu thập dữ liệu\n",
    "            article[\"title\"] = get_element_text(selectors[source][\"title\"])\n",
    "            article[\"description\"] = get_element_text(selectors[source][\"description\"])\n",
    "            article[\"publish_time\"] = get_element_text(selectors[source][\"time\"])\n",
    "            article[\"author\"] = get_element_text(selectors[source][\"author\"])\n",
    "            \n",
    "            # Thu thập nội dung\n",
    "            try:\n",
    "                content_selector = selectors[source][\"content\"]\n",
    "                paragraphs = []\n",
    "                \n",
    "                # Thử lấy nội dung từ các thẻ p\n",
    "                for selector in content_selector.split(','):\n",
    "                    try:\n",
    "                        content_element = self.driver.find_element(By.CSS_SELECTOR, selector.strip())\n",
    "                        p_elements = content_element.find_elements(By.TAG_NAME, \"p\")\n",
    "                        if p_elements:\n",
    "                            paragraphs = [p.text.strip() for p in p_elements if p.text.strip()]\n",
    "                            break\n",
    "                    except:\n",
    "                        continue\n",
    "                \n",
    "                # Nếu không có thẻ p, lấy toàn bộ nội dung\n",
    "                if not paragraphs:\n",
    "                    content_text = get_element_text(content_selector)\n",
    "                    paragraphs = [line.strip() for line in content_text.split('\\n') if line.strip()]\n",
    "                \n",
    "                article[\"content\"] = \"\\n\".join(paragraphs)\n",
    "            except Exception as e:\n",
    "                article[\"content\"] = \"\"\n",
    "                print(f\"Lỗi khi lấy nội dung: {url}, {str(e)}\")\n",
    "            \n",
    "            # Xác định category từ URL\n",
    "            for cat in self.available_categories[source]:\n",
    "                if any(pattern in url for pattern in [f\"/{cat}/\", f\"/{cat}.\", f\"/{cat}-\"]):\n",
    "                    article[\"category\"] = cat\n",
    "                    break\n",
    "            \n",
    "            # Kiểm tra tính hợp lệ của bài viết\n",
    "            if not article[\"title\"] or not article[\"content\"]:\n",
    "                print(f\"Bài viết không đủ thông tin: {url}\")\n",
    "                return None\n",
    "                \n",
    "            return article\n",
    "            \n",
    "        except TimeoutException:\n",
    "            print(f\"Timeout khi tải trang: {url}\")\n",
    "            return None\n",
    "        except Exception as e:\n",
    "            print(f\"Lỗi khi thu thập nội dung: {url}, {str(e)}\")\n",
    "            return None\n",
    "    \n",
    "    def append_to_all_articles(self, article):\n",
    "        \"\"\"Thêm bài viết vào file tổng hợp all_articles.csv ngay lập tức\"\"\"\n",
    "        try:\n",
    "            # Tạo DataFrame từ article và ghi vào file\n",
    "            df = pd.DataFrame([article])\n",
    "            df.to_csv(self.all_articles_file, mode='a', header=False, index=False, encoding=\"utf-8-sig\")\n",
    "            # Đảm bảo dữ liệu được ghi vào đĩa ngay lập tức\n",
    "            return True\n",
    "        except Exception as e:\n",
    "            print(f\"Lỗi khi ghi vào all_articles.csv: {str(e)}\")\n",
    "            return False\n",
    "    \n",
    "    def get_crawled_urls(self):\n",
    "        \"\"\"Lấy danh sách URLs đã crawl từ file all_articles.csv\"\"\"\n",
    "        crawled_urls = set()\n",
    "        if os.path.exists(self.all_articles_file) and os.path.getsize(self.all_articles_file) > 0:\n",
    "            try:\n",
    "                existing_df = pd.read_csv(self.all_articles_file, encoding=\"utf-8-sig\")\n",
    "                if 'url' in existing_df.columns:\n",
    "                    crawled_urls = set(existing_df['url'].tolist())\n",
    "                    print(f\"Đã tìm thấy {len(crawled_urls)} URLs đã crawl trước đó\")\n",
    "            except Exception as e:\n",
    "                print(f\"Lỗi khi đọc file all_articles.csv: {str(e)}\")\n",
    "        return crawled_urls\n",
    "    \n",
    "    def scrape_category(self, source, category, num_pages=5, max_articles=50):\n",
    "        \"\"\"Thu thập bài viết từ một danh mục và lưu ngay lập tức vào all_articles.csv\"\"\"\n",
    "        if category not in self.available_categories[source]:\n",
    "            print(f\"Danh mục '{category}' không hợp lệ cho {source}\")\n",
    "            return []\n",
    "\n",
    "        print(f\"\\n=== Crawl {source} - {category} ===\")\n",
    "        \n",
    "        # Tạo thư mục lưu trữ\n",
    "        category_dir = f\"{self.data_dir}/{source}/{category}\"\n",
    "        os.makedirs(category_dir, exist_ok=True)\n",
    "        \n",
    "        # Lấy URLs đã crawl\n",
    "        crawled_urls = self.get_crawled_urls()\n",
    "        \n",
    "        # Thu thập URLs mới\n",
    "        article_urls = self.get_article_urls(source, category, num_pages)\n",
    "        \n",
    "        # Lọc URLs chưa crawl\n",
    "        new_urls = [url for url in article_urls if url not in crawled_urls]\n",
    "        print(f\"Tìm thấy {len(new_urls)} URLs mới chưa crawl\")\n",
    "        \n",
    "        # Giới hạn số lượng bài viết\n",
    "        if max_articles and len(new_urls) > max_articles:\n",
    "            new_urls = new_urls[:max_articles]\n",
    "            print(f\"Giới hạn crawl tối đa {max_articles} URLs\")\n",
    "\n",
    "        articles = []\n",
    "        skipped = 0\n",
    "        \n",
    "        # Progress bar\n",
    "        with tqdm(total=len(new_urls), desc=f\"Crawl {source}/{category}\") as pbar:\n",
    "            for url in new_urls:\n",
    "                try:\n",
    "                    # Crawl bài viết\n",
    "                    article = self.scrape_article(url, source)\n",
    "                    \n",
    "                    if article:\n",
    "                        # Kiểm tra category\n",
    "                        if article[\"category\"] != category:\n",
    "                            if article[\"category\"]:\n",
    "                                skipped += 1\n",
    "                                pbar.update(1)\n",
    "                                continue\n",
    "                            article[\"category\"] = category\n",
    "                        \n",
    "                        # Lưu bài viết dạng JSON\n",
    "                        article_id = url.split(\"/\")[-1].split(\".\")[0]\n",
    "                        json_path = f\"{category_dir}/{article_id}.json\"\n",
    "                        with open(json_path, \"w\", encoding=\"utf-8\") as f:\n",
    "                            json.dump(article, f, ensure_ascii=False, indent=2)\n",
    "                        \n",
    "                        # GHI NGAY LẬP TỨC: Thêm vào file all_articles.csv\n",
    "                        self.append_to_all_articles(article)\n",
    "                        articles.append(article)\n",
    "                        \n",
    "                        # In thông báo mỗi khi crawl thành công\n",
    "                        pbar.set_postfix_str(f\"Đã ghi: {article['title'][:30]}...\")\n",
    "                    \n",
    "                    pbar.update(1)\n",
    "                except Exception as e:\n",
    "                    print(f\"\\nLỗi khi xử lý {url}: {str(e)}\")\n",
    "                    pbar.update(1)\n",
    "                    continue\n",
    "                \n",
    "                # Tạm dừng ngẫu nhiên để tránh bị chặn\n",
    "                self.random_sleep(1, 2)\n",
    "\n",
    "        print(f\"Đã crawl {len(articles)} bài viết từ {source}/{category}\")\n",
    "        if skipped > 0:\n",
    "            print(f\"Đã bỏ qua {skipped} bài viết không thuộc danh mục {category}\")\n",
    "\n",
    "        return articles\n",
    "\n",
    "    def scrape_multiple_categories(self, config):\n",
    "        \"\"\"Thu thập từ nhiều danh mục\"\"\"\n",
    "        total_articles = 0\n",
    "        start_time = datetime.now()\n",
    "        \n",
    "        print(f\"Bắt đầu crawl vào: {start_time.strftime('%Y-%m-%d %H:%M:%S')}\")\n",
    "        \n",
    "        for source, categories in config.items():\n",
    "            for cat_info in categories:\n",
    "                category = cat_info[\"category\"]\n",
    "                num_pages = cat_info.get(\"pages\", 5)\n",
    "                max_articles = cat_info.get(\"max_articles\", 50)\n",
    "                \n",
    "                # Thu thập và ghi ngay lập tức vào all_articles.csv\n",
    "                articles = self.scrape_category(source, category, num_pages, max_articles)\n",
    "                total_articles += len(articles)\n",
    "                \n",
    "                print(f\"Hoàn tất crawl {source}/{category}: {len(articles)} bài viết\")\n",
    "                print(f\"Tổng cộng đã crawl: {total_articles} bài viết\")\n",
    "                print(\"-\" * 50)\n",
    "        \n",
    "        end_time = datetime.now()\n",
    "        duration = end_time - start_time\n",
    "        print(f\"\\nHoàn tất crawl tổng cộng: {total_articles} bài viết\")\n",
    "        print(f\"Thời gian thực hiện: {duration}\")\n",
    "        return total_articles\n",
    "\n",
    "    def close(self):\n",
    "        \"\"\"Đóng trình duyệt\"\"\"\n",
    "        if hasattr(self, \"driver\"):\n",
    "            try:\n",
    "                self.driver.quit()\n",
    "                print(\"Đã đóng trình duyệt\")\n",
    "            except:\n",
    "                pass\n",
    "\n",
    "# Sử dụng\n",
    "if __name__ == \"__main__\":\n",
    "    config = {\n",
    "        # \"vnexpress\": [\n",
    "        #     {\"category\": \"thoi-su\", \"pages\": 1, \"max_articles\": 50},\n",
    "            # {\"category\": \"suc-khoe\", \"pages\": 5, \"max_articles\": 100},\n",
    "        #     {\"category\": \"kinh-doanh\", \"pages\": 1, \"max_articles\": 50},\n",
    "            # {\"category\": \"phap-luat\", \"pages\": 6, \"max_articles\": 200},\n",
    "            # {\"category\": \"giao-duc\", \"pages\": 10, \"max_articles\": 200},\n",
    "            # {\"category\": \"khoa-hoc\", \"pages\": 10, \"max_articles\": 300},\n",
    "        # ],  \n",
    "        \"tuoitre\": [\n",
    "            # {\"category\": \"thoi-su\", \"pages\": 1, \"max_articles\": 50},\n",
    "            # {\"category\": \"suc-khoe\", \"pages\": 1, \"max_articles\": 50},\n",
    "            {\"category\": \"kinh-te\", \"pages\": 10, \"max_articles\": 500},\n",
    "            {\"category\": \"phap-luat\", \"pages\": 10, \"max_articles\":110},\n",
    "            {\"category\": \"giao-duc\", \"pages\":10, \"max_articles\": 100},\n",
    "            {\"category\": \"cong-nghe\", \"pages\": 10, \"max_articles\": 200},\n",
    "        ]\n",
    "    }\n",
    "\n",
    "    try:\n",
    "        scraper = NewsScraperVN(headless=True)\n",
    "        scraper.scrape_multiple_categories(config)\n",
    "    except KeyboardInterrupt:\n",
    "        print(\"\\nNgắt bởi người dùng. Dữ liệu đã được lưu liên tục vào all_articles.csv\")\n",
    "    except Exception as e:\n",
    "        print(f\"Lỗi tổng quát: {str(e)}\")\n",
    "    finally:\n",
    "        if 'scraper' in locals():\n",
    "            scraper.close()"
   ]
  },
  {
   "cell_type": "code",
   "execution_count": null,
   "metadata": {},
   "outputs": [],
   "source": []
  }
 ],
 "metadata": {
  "kernelspec": {
   "display_name": "Python 3",
   "language": "python",
   "name": "python3"
  },
  "language_info": {
   "codemirror_mode": {
    "name": "ipython",
    "version": 3
   },
   "file_extension": ".py",
   "mimetype": "text/x-python",
   "name": "python",
   "nbconvert_exporter": "python",
   "pygments_lexer": "ipython3",
   "version": "3.10.0"
  }
 },
 "nbformat": 4,
 "nbformat_minor": 2
}
